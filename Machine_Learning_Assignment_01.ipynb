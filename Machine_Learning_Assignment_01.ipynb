{
 "cells": [
  {
   "cell_type": "markdown",
   "id": "2fe426f3",
   "metadata": {},
   "source": [
    "# 1. What does one mean by the term \"machine learning\"?\n",
    "\n",
    "ANSWER- Machine Learning is the branch of AI(artificial intelligence) that allow software applications to become more accurate at predicting outcomes without being explicity programmed to do so.Overall machine learning enables computers to analyze complex data ,recognize patterns,and make predictions or decisions based on the patterns they have learned."
   ]
  },
  {
   "cell_type": "markdown",
   "id": "95c4bfda",
   "metadata": {},
   "source": [
    "# 2.Can you think of 4 distinct types of issues where it shines?\n",
    "\n",
    "ANSWER- I) Pattern Recognition:Image recognition is one of the most common applications of machine learning. It is used to identify objects, persons, places, digital images, etc. The popular use case of image recognition and face detection is Automatic friend tagging suggestion.\n",
    "\n",
    "II) Traffic Prediction: It predicts the traffic conditions such as whether traffic is cleared, slow-moving, or heavily congested with the help of two ways: Real Time location of the vehicle from Google Map app and sensors Average time has taken on past days at the same time.\n",
    "\n",
    "III) Product Recommendations: Machine learning is widely used by various e-commerce and entertainment companies such as Amazon, Netflix, etc., for product recommendation to the user.\n",
    "\n",
    "IV) Natural Language Processing: Machine Learning is highly effective in processing and understanding human language.It enables tasks such as language translation,sentiment analysis,speech recognition, and text generation."
   ]
  },
  {
   "cell_type": "markdown",
   "id": "c234b958",
   "metadata": {},
   "source": [
    "# 3.What is a labeled training set, and how does it work?\n",
    "\n",
    "ANSWER- You split up the data containing known response variable values into two pieces. The training set is used to train the algorithm, and then you use the trained model on the test set to predict the response variable values that are already known."
   ]
  },
  {
   "cell_type": "markdown",
   "id": "a2650657",
   "metadata": {},
   "source": [
    "# 4.What are the two most important tasks that are supervised?\n",
    "\n",
    "ANSWER- The two most important tasks that are supervised are Regression and Classification."
   ]
  },
  {
   "cell_type": "markdown",
   "id": "3b6aa785",
   "metadata": {},
   "source": [
    "# 5.Can you think of four examples of unsupervised tasks?\n",
    "\n",
    "ANSWER- Four common Unsupervised Tasks are Clustering, Visualization, Dimensionality Reduction and Association Rule Learninig."
   ]
  },
  {
   "cell_type": "markdown",
   "id": "10fab58e",
   "metadata": {},
   "source": [
    "# 6.State the machine learning model that would be best to make a robot walk through various unfamiliar terrains?\n",
    "\n",
    "ANSWER- The best machine learning model that would to be best to make a robot walk through various unfamiliar terrains is Reinforced learning,where robot can learn from response of the terrain to optimize itself."
   ]
  },
  {
   "cell_type": "markdown",
   "id": "44bfa2b9",
   "metadata": {},
   "source": [
    "# 7.Which algorithm will you use to divide your customers into different groups?\n",
    "\n",
    "ANSWER- To divide customers into different groups,we can use various clustering algorithms.Example:K-mean-clustering,Hierarchical clustering,DBSCAN ,and more"
   ]
  },
  {
   "cell_type": "markdown",
   "id": "2efd2c30",
   "metadata": {},
   "source": [
    "# 8.Will you consider the problem of spam detection to be a supervised or unsupervised learning problem?\n",
    "\n",
    "ANSWER- Spam detection is a Supervised Machine Learning problem because the labels are known (spam or no spam)."
   ]
  },
  {
   "cell_type": "markdown",
   "id": "88e95d7d",
   "metadata": {},
   "source": [
    "# 9.What is the concept of an online learning system?\n",
    "\n",
    "ANSWER- The concept of an online learning system is a learning system in which the machine learns continously,as data is given in small streams continuously."
   ]
  },
  {
   "cell_type": "markdown",
   "id": "253d196b",
   "metadata": {},
   "source": [
    "# 10.What is out-of-core learning, and how does it differ from core learning?\n",
    "\n",
    "ANSWER- out-of-core learning system is a system that can handle data that cannot fit into your computer memory.It uses online learning system to feed data in small bits."
   ]
  },
  {
   "cell_type": "markdown",
   "id": "26b76de3",
   "metadata": {},
   "source": [
    "# 11.What kind of learning algorithm makes predictions using a similarity measure?\n",
    "\n",
    "ANSWER- Learning algorithm makes predictions using a similarity measure to make predictions is Instance Based Algorithm."
   ]
  },
  {
   "cell_type": "markdown",
   "id": "22a0b988",
   "metadata": {},
   "source": [
    "# 12.What's the difference between a model parameter and a hyperparameter in a learning algorithm?\n",
    "\n",
    "ANSWER- Model parameters are learned during the training process and directly affect the behavior of the model, while hyperparameters are set before training and control the overall configuration and behavior of the learning algorithm."
   ]
  },
  {
   "cell_type": "markdown",
   "id": "e623a865",
   "metadata": {},
   "source": [
    "# 13.What are the criteria that model-based learning algorithms look for? What is the most popular method they use to achieve success? What method do they use to make predictions?\n",
    "\n",
    "ANSWER- Model based learning algorithm search for the optimal value of parameters in a model that will give the best results for the new instances. We often use a cost function or similar to determine what the parameter value has to be in order to minimize the function. The model makes prediction by using the value of the new instance and the parameters in its function.\n"
   ]
  },
  {
   "cell_type": "markdown",
   "id": "82559039",
   "metadata": {},
   "source": [
    "# 14.Can you name four of the most important Machine Learning challenges?\n",
    "\n",
    "ANSWER- I)Overfitting the data\n",
    "        II)Underfitting the data \n",
    "        III)Non representative the data\n",
    "        IV)Lacking in data"
   ]
  },
  {
   "cell_type": "markdown",
   "id": "b251f5d1",
   "metadata": {},
   "source": [
    "# 15.What happens if the model performs well on the training data but fails to generalize the results to new situations? Can you think of three different options?\n",
    "\n",
    "ANSWER-  If the model performs poorly to new instances, then it has overfitted on the training data. To solve this, we can do any of the following three:\n",
    "   I) Remove outliers.\n",
    "   II) Get more data.\n",
    "   III) Go through simple model. "
   ]
  },
  {
   "cell_type": "markdown",
   "id": "0ae41bd4",
   "metadata": {},
   "source": [
    "# 16.What exactly is a test set, and why would you need one?\n",
    "\n",
    "ANSWER- Test set is a set to test your model to see how it performs.Test set is neccessary to determine how good or bad a model perform."
   ]
  },
  {
   "cell_type": "markdown",
   "id": "aba4a1a7",
   "metadata": {},
   "source": [
    "# 17.What is a validation set's purpose?\n",
    "\n",
    "ANSWER- Validation set's purpose is a set used to compare between different training models."
   ]
  },
  {
   "cell_type": "markdown",
   "id": "609ddbff",
   "metadata": {},
   "source": [
    "# 18.What precisely is the train-dev kit, when will you need it, how do you put it to use?\n",
    "\n",
    "ANSWER- Cross-validation is a tool to compare models without needing a separate validation set. It is preferred over validation set because we can save from breaking of part of the training set to create a validation set, as having more data is valuable regardless."
   ]
  },
  {
   "cell_type": "markdown",
   "id": "7aacd827",
   "metadata": {},
   "source": [
    "# 19.What could go wrong if you use the test set to tune hyperparameters?\n",
    "\n",
    "ANSWER- If you tune hyperparameters using test sets,then it may not perform well on the out-of-sample data because the mnodel is tuned just for that specific set."
   ]
  },
  {
   "cell_type": "code",
   "execution_count": null,
   "id": "ca5f1da7",
   "metadata": {},
   "outputs": [],
   "source": []
  }
 ],
 "metadata": {
  "kernelspec": {
   "display_name": "Python 3 (ipykernel)",
   "language": "python",
   "name": "python3"
  },
  "language_info": {
   "codemirror_mode": {
    "name": "ipython",
    "version": 3
   },
   "file_extension": ".py",
   "mimetype": "text/x-python",
   "name": "python",
   "nbconvert_exporter": "python",
   "pygments_lexer": "ipython3",
   "version": "3.9.12"
  }
 },
 "nbformat": 4,
 "nbformat_minor": 5
}
